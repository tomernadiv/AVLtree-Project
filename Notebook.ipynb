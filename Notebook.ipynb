{
 "cells": [
  {
   "cell_type": "code",
   "execution_count": 1,
   "metadata": {},
   "outputs": [],
   "source": [
    "from AVLTree import *\n",
    "from print_tree import *"
   ]
  },
  {
   "cell_type": "code",
   "execution_count": 6,
   "metadata": {},
   "outputs": [
    {
     "name": "stdout",
     "output_type": "stream",
     "text": [
      "               6            \n",
      "     _________/ \\____       \n",
      "    3                41     \n",
      "  _/ \\______       _/  \\_   \n",
      " 1          4     9      59 \n",
      "          _/               \n",
      "       3.5                  \n",
      "23\n"
     ]
    }
   ],
   "source": [
    "AVL = AVLTree()\n",
    "cnt = 0\n",
    "cnt += AVL.insert(3,'')\n",
    "cnt += AVL.insert(6,'')\n",
    "cnt += AVL.insert(9,'')\n",
    "cnt += AVL.insert(59,'')\n",
    "cnt += AVL.insert(41,'')\n",
    "cnt += AVL.insert(1, '')\n",
    "cnt += AVL.insert(4, '')\n",
    "cnt += AVL.insert(3.5, '')\n",
    "printree(AVL)\n",
    "print(cnt)"
   ]
  },
  {
   "cell_type": "code",
   "execution_count": 7,
   "metadata": {},
   "outputs": [
    {
     "data": {
      "text/plain": [
       "[(1, ''), (3, ''), (3.5, ''), (4, ''), (6, ''), (9, ''), (41, ''), (59, '')]"
      ]
     },
     "execution_count": 7,
     "metadata": {},
     "output_type": "execute_result"
    }
   ],
   "source": [
    "AVL.avl_to_array()"
   ]
  },
  {
   "cell_type": "code",
   "execution_count": null,
   "metadata": {},
   "outputs": [],
   "source": []
  }
 ],
 "metadata": {
  "kernelspec": {
   "display_name": "Python 3",
   "language": "python",
   "name": "python3"
  },
  "language_info": {
   "codemirror_mode": {
    "name": "ipython",
    "version": 3
   },
   "file_extension": ".py",
   "mimetype": "text/x-python",
   "name": "python",
   "nbconvert_exporter": "python",
   "pygments_lexer": "ipython3",
   "version": "3.9.12"
  }
 },
 "nbformat": 4,
 "nbformat_minor": 2
}
