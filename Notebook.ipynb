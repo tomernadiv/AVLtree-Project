{
 "cells": [
  {
   "cell_type": "code",
   "execution_count": 1,
   "metadata": {},
   "outputs": [],
   "source": [
    "from AVLTree import *\n",
    "from print_tree import *"
   ]
  },
  {
   "cell_type": "code",
   "execution_count": 24,
   "metadata": {},
   "outputs": [
    {
     "name": "stdout",
     "output_type": "stream",
     "text": [
      "                     41         \n",
      "             _______/  \\_       \n",
      "            4            59     \n",
      "     ______/ \\_           \\_   \n",
      "    3          6             60 \n",
      "  _/ \\_        \\_              \n",
      " 1     3.5        9             \n"
     ]
    }
   ],
   "source": [
    "AVL = AVLTree()\n",
    "AVL.insert(3,'')\n",
    "AVL.insert(6,'')\n",
    "AVL.insert(9,'')\n",
    "AVL.insert(59,'')\n",
    "AVL.insert(41,'')\n",
    "AVL.insert(60, '')\n",
    "AVL.insert(1, '')\n",
    "AVL.insert(4, '')\n",
    "AVL.insert(3.5, '')\n",
    "printree(AVL)"
   ]
  },
  {
   "cell_type": "code",
   "execution_count": 3,
   "metadata": {},
   "outputs": [
    {
     "data": {
      "text/plain": [
       "<AVLTree.AVLNode at 0x25eaa8c0520>"
      ]
     },
     "execution_count": 3,
     "metadata": {},
     "output_type": "execute_result"
    }
   ],
   "source": [
    "AVL.get_root()"
   ]
  },
  {
   "cell_type": "code",
   "execution_count": 4,
   "metadata": {},
   "outputs": [
    {
     "data": {
      "text/plain": [
       "<AVLTree.AVLNode at 0x25eaa8c0520>"
      ]
     },
     "execution_count": 4,
     "metadata": {},
     "output_type": "execute_result"
    }
   ],
   "source": [
    "AVL.get_root()"
   ]
  },
  {
   "cell_type": "code",
   "execution_count": null,
   "metadata": {},
   "outputs": [],
   "source": []
  }
 ],
 "metadata": {
  "kernelspec": {
   "display_name": "Python 3",
   "language": "python",
   "name": "python3"
  },
  "language_info": {
   "codemirror_mode": {
    "name": "ipython",
    "version": 3
   },
   "file_extension": ".py",
   "mimetype": "text/x-python",
   "name": "python",
   "nbconvert_exporter": "python",
   "pygments_lexer": "ipython3",
   "version": "3.9.12"
  }
 },
 "nbformat": 4,
 "nbformat_minor": 2
}
