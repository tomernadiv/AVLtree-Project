{
 "cells": [
  {
   "cell_type": "code",
   "execution_count": 1,
   "metadata": {},
   "outputs": [],
   "source": [
    "from AVLTree import *\n",
    "from print_tree import *"
   ]
  },
  {
   "cell_type": "code",
   "execution_count": 45,
   "metadata": {},
   "outputs": [
    {
     "data": {
      "text/plain": [
       "0"
      ]
     },
     "execution_count": 45,
     "metadata": {},
     "output_type": "execute_result"
    }
   ],
   "source": [
    "AVL = AVLTree()\n",
    "AVL.insert(3,3)\n",
    "AVL.insert(1,1)\n",
    "AVL.insert(2,2)\n",
    "AVL.insert(4,4)\n",
    "AVL.insert(5,5)\n",
    "AVL.insert(2.5,2.5)\n",
    "AVL.insert(2.75,2.75)\n",
    "AVL.delete(AVL.search(2.5))\n",
    "AVL.delete(AVL.search(2.75))\n",
    "# AVL.delete(AVL.search(4))"
   ]
  },
  {
   "cell_type": "code",
   "execution_count": 46,
   "metadata": {},
   "outputs": [
    {
     "name": "stdout",
     "output_type": "stream",
     "text": [
      "       3       \n",
      "     _/ \\_     \n",
      "    2     4    \n",
      "  _/     \\_  \n",
      " 1           5 \n"
     ]
    }
   ],
   "source": [
    "printree(AVL)"
   ]
  },
  {
   "cell_type": "code",
   "execution_count": 31,
   "metadata": {},
   "outputs": [
    {
     "data": {
      "text/plain": [
       "2"
      ]
     },
     "execution_count": 31,
     "metadata": {},
     "output_type": "execute_result"
    }
   ],
   "source": [
    "AVL.get_root().height"
   ]
  },
  {
   "cell_type": "code",
   "execution_count": null,
   "metadata": {},
   "outputs": [],
   "source": []
  }
 ],
 "metadata": {
  "kernelspec": {
   "display_name": "Python 3",
   "language": "python",
   "name": "python3"
  },
  "language_info": {
   "codemirror_mode": {
    "name": "ipython",
    "version": 3
   },
   "file_extension": ".py",
   "mimetype": "text/x-python",
   "name": "python",
   "nbconvert_exporter": "python",
   "pygments_lexer": "ipython3",
   "version": "3.9.12"
  }
 },
 "nbformat": 4,
 "nbformat_minor": 2
}
