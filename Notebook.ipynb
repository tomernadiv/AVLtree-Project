{
 "cells": [
  {
   "cell_type": "code",
   "execution_count": 1,
   "metadata": {},
   "outputs": [],
   "source": [
    "from AVLTree import *\n",
    "from print_tree import *"
   ]
  },
  {
   "cell_type": "code",
   "execution_count": 2,
   "metadata": {},
   "outputs": [
    {
     "data": {
      "text/plain": [
       "8"
      ]
     },
     "execution_count": 2,
     "metadata": {},
     "output_type": "execute_result"
    }
   ],
   "source": [
    "# Case 1\n",
    "AVL = AVLTree()\n",
    "AVL.insert(3,'')\n",
    "AVL.insert(6,'')\n",
    "AVL.insert(9,'')\n",
    "AVL.insert(12,'')\n",
    "AVL.insert(15, '')\n",
    "AVL.insert(17, '')\n",
    "AVL.insert(18, '')\n",
    "AVL.insert(19, '')\n",
    "AVL.insert(17.5, '')\n",
    "AVL.insert(17.4, '')\n",
    "AVL.insert(16, '')\n",
    "AVL.insert(2, '')\n",
    "AVL.insert(2.5, '')\n"
   ]
  },
  {
   "cell_type": "code",
   "execution_count": 3,
   "metadata": {},
   "outputs": [
    {
     "name": "stdout",
     "output_type": "stream",
     "text": [
      "                              17                     \n",
      "                    _________/  \\_______             \n",
      "                  12                    17.5         \n",
      "             ____/  \\_                _/    \\_       \n",
      "            6         15          17.4        18     \n",
      "       ____/ \\_        \\_                     \\_   \n",
      "    2.5        9          16                      19 \n",
      "  _/   \\_                                            \n",
      " 2       3                                           \n"
     ]
    }
   ],
   "source": [
    "printree(AVL)"
   ]
  },
  {
   "cell_type": "code",
   "execution_count": 4,
   "metadata": {},
   "outputs": [
    {
     "data": {
      "text/plain": [
       "0"
      ]
     },
     "execution_count": 4,
     "metadata": {},
     "output_type": "execute_result"
    }
   ],
   "source": [
    "AVL.get_root().size"
   ]
  },
  {
   "cell_type": "code",
   "execution_count": null,
   "metadata": {},
   "outputs": [],
   "source": []
  }
 ],
 "metadata": {
  "kernelspec": {
   "display_name": "Python 3",
   "language": "python",
   "name": "python3"
  },
  "language_info": {
   "codemirror_mode": {
    "name": "ipython",
    "version": 3
   },
   "file_extension": ".py",
   "mimetype": "text/x-python",
   "name": "python",
   "nbconvert_exporter": "python",
   "pygments_lexer": "ipython3",
   "version": "3.9.12"
  }
 },
 "nbformat": 4,
 "nbformat_minor": 2
}
