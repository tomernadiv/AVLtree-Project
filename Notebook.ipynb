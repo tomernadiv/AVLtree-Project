{
 "cells": [
  {
   "cell_type": "code",
   "execution_count": 7,
   "metadata": {},
   "outputs": [],
   "source": [
    "from AVLTree import *\n",
    "from print_tree import *"
   ]
  },
  {
   "cell_type": "code",
   "execution_count": 8,
   "metadata": {},
   "outputs": [
    {
     "name": "stdout",
     "output_type": "stream",
     "text": [
      "               6                \n",
      "     _________/ \\________       \n",
      "    3                    41     \n",
      "  _/ \\______       _____/  \\_   \n",
      " 1          4     9          59 \n",
      "          _/     \\_           \n",
      "       3.5           11         \n"
     ]
    }
   ],
   "source": [
    "AVL = AVLTree()\n",
    "cnt = 0\n",
    "cnt += AVL.insert(3,'')\n",
    "cnt += AVL.insert(6,'')\n",
    "cnt += AVL.insert(9,'')\n",
    "cnt += AVL.insert(59,'')\n",
    "cnt += AVL.insert(41,'')\n",
    "cnt += AVL.insert(1, '')\n",
    "cnt += AVL.insert(4, '')\n",
    "cnt += AVL.insert(3.5, '')\n",
    "cnt += AVL.insert(11, '')\n",
    "\n",
    "printree(AVL)"
   ]
  },
  {
   "cell_type": "code",
   "execution_count": 11,
   "metadata": {},
   "outputs": [
    {
     "name": "stdout",
     "output_type": "stream",
     "text": [
      "            11         \n",
      "       ____/  \\_       \n",
      "    3.5         41     \n",
      "  _/   \\_        \\_   \n",
      " 1       4          59 \n"
     ]
    }
   ],
   "source": [
    "AVL.delete(AVL.search(6))\n",
    "printree(AVL)"
   ]
  },
  {
   "cell_type": "code",
   "execution_count": null,
   "metadata": {},
   "outputs": [],
   "source": []
  }
 ],
 "metadata": {
  "kernelspec": {
   "display_name": "Python 3",
   "language": "python",
   "name": "python3"
  },
  "language_info": {
   "codemirror_mode": {
    "name": "ipython",
    "version": 3
   },
   "file_extension": ".py",
   "mimetype": "text/x-python",
   "name": "python",
   "nbconvert_exporter": "python",
   "pygments_lexer": "ipython3",
   "version": "3.9.12"
  }
 },
 "nbformat": 4,
 "nbformat_minor": 2
}
