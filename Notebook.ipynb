{
 "cells": [
  {
   "cell_type": "code",
   "execution_count": 1,
   "metadata": {},
   "outputs": [],
   "source": [
    "from AVLTree import *\n",
    "from print_tree import *\n",
    "import numpy as np\n",
    "import pandas as pd"
   ]
  },
  {
   "cell_type": "code",
   "execution_count": 2,
   "metadata": {},
   "outputs": [],
   "source": [
    "### Experiment ###\n",
    "\n",
    "# preallocate df\n",
    "df = pd.DataFrame(index=range(1,6),\n",
    "                  columns=['Sorted Inverted Arary - Number of Substitutions',\n",
    "                           'Sorted Inverted Arary - Sorting Cost',\n",
    "                           'Random Array - Number of Substitutions',\n",
    "                           'Random Array - Sorting Cost'])\n",
    "\n",
    "# run inverted array experiment:\n",
    "for i in range(1,6):\n",
    "    array = [i for i in range(1, 1111*(2**i) + 1)][::-1]\n",
    "    T = AVLTree()\n",
    "    sorting_cost = 0\n",
    "    num_substitutions = 0\n",
    "    for x in array:\n",
    "        cost, subs = T.insert_from_max(x, x)\n",
    "        sorting_cost += cost\n",
    "        num_substitutions += subs\n",
    "    df.loc[i, 'Sorted Inverted Arary - Number of Substitutions'] = num_substitutions\n",
    "    df.loc[i, 'Sorted Inverted Arary - Sorting Cost'] = sorting_cost\n",
    "\n",
    "# run random array experiment:\n",
    "for i in range(1,6):\n",
    "    array = np.random.permutation([i for i in range(1, 1111*(2**i) + 1)])\n",
    "    T = AVLTree()\n",
    "    sorting_cost = 0\n",
    "    num_substitutions = 0\n",
    "    for x in array:\n",
    "        cost, subs = T.insert_from_max(x, x)\n",
    "        sorting_cost += cost\n",
    "        num_substitutions += subs\n",
    "    df.loc[i, 'Random Array - Number of Substitutions'] = num_substitutions\n",
    "    df.loc[i, 'Random Array - Sorting Cost'] = sorting_cost"
   ]
  },
  {
   "cell_type": "code",
   "execution_count": 3,
   "metadata": {},
   "outputs": [
    {
     "data": {
      "text/plain": [
       "(0, 1)"
      ]
     },
     "execution_count": 3,
     "metadata": {},
     "output_type": "execute_result"
    }
   ],
   "source": [
    "T = AVLTree()\n",
    "T.insert_from_max(1, 1)"
   ]
  },
  {
   "cell_type": "code",
   "execution_count": null,
   "metadata": {},
   "outputs": [],
   "source": []
  }
 ],
 "metadata": {
  "kernelspec": {
   "display_name": "Python 3",
   "language": "python",
   "name": "python3"
  },
  "language_info": {
   "codemirror_mode": {
    "name": "ipython",
    "version": 3
   },
   "file_extension": ".py",
   "mimetype": "text/x-python",
   "name": "python",
   "nbconvert_exporter": "python",
   "pygments_lexer": "ipython3",
   "version": "3.9.12"
  }
 },
 "nbformat": 4,
 "nbformat_minor": 2
}
